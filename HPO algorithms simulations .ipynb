{
 "cells": [
  {
   "cell_type": "markdown",
   "id": "abbbfa43",
   "metadata": {},
   "source": [
    "# HPO algorithms simulations "
   ]
  },
  {
   "cell_type": "markdown",
   "id": "d33a8d04",
   "metadata": {},
   "source": [
    "### Hyper-parameter Optimization with Grid Search"
   ]
  },
  {
   "cell_type": "code",
   "execution_count": 1,
   "id": "c7336dc6",
   "metadata": {},
   "outputs": [],
   "source": [
    "from Experiment import Experiment, get_estimator, get_hyperparams\n",
    "from sklearn.model_selection import GridSearchCV\n",
    "search_parameters = {\n",
    "    \"cv\": 5,\n",
    "    \"verbose\": 0,\n",
    "    \"scoring\": 'f1_macro'    \n",
    "    }\n",
    "e = Experiment(\n",
    "        search_name = \"Grid Search\", \n",
    "        search_algo = GridSearchCV(get_estimator(), get_hyperparams(), **search_parameters)\n",
    "    )\n",
    "e.run_simulations(n = 10)"
   ]
  },
  {
   "cell_type": "markdown",
   "id": "ce67b228",
   "metadata": {},
   "source": [
    "### Hyper-parameter Optimization with Random Search"
   ]
  },
  {
   "cell_type": "code",
   "execution_count": 1,
   "id": "c44446c5",
   "metadata": {},
   "outputs": [],
   "source": [
    "from Experiment import Experiment, get_estimator, get_hyperparams\n",
    "from sklearn.model_selection import RandomizedSearchCV\n",
    "\n",
    "e = Experiment(\n",
    "        search_name = \"Random Search\", \n",
    "        search_algo = RandomizedSearchCV(get_estimator(), get_hyperparams(), **search_parameters)\n",
    "    )\n",
    "search_parameters = {\n",
    "    \"cv\": 5,\n",
    "    \"verbose\": 0,\n",
    "    \"scoring\": 'f1_macro',\n",
    "    \"n_iter\": 50,\n",
    "    \"random_state\": 42\n",
    "}\n",
    "e.run_simulations(n= 10)"
   ]
  },
  {
   "cell_type": "markdown",
   "id": "c7e4d85f",
   "metadata": {},
   "source": [
    "### Hyper-parameter Optimization with Bayesian Optimization"
   ]
  },
  {
   "cell_type": "code",
   "execution_count": null,
   "id": "14af1e4b",
   "metadata": {},
   "outputs": [],
   "source": [
    "#!pip install scikit-optimize"
   ]
  },
  {
   "cell_type": "code",
   "execution_count": null,
   "id": "19206171",
   "metadata": {},
   "outputs": [],
   "source": [
    "from Experiment import Experiment, get_estimator, get_hyperparams\n",
    "from skopt import BayesSearchCV\n",
    "\n",
    "search_parameters = {\n",
    "    \"cv\": 5,\n",
    "    \"verbose\": 0,\n",
    "    \"scoring\": 'f1_macro',\n",
    "    \"n_iter\": 20,\n",
    "    \"random_state\": 42\n",
    "}\n",
    "e = Experiment(\n",
    "        search_name = \"Bayesian Optimization\", \n",
    "        search_algo = BayesSearchCV(get_estimator(), get_hyperparams(), **search_parameters)\n",
    "    )\n",
    "e.run_simulations(n= 10)"
   ]
  },
  {
   "cell_type": "markdown",
   "id": "42ea56b9",
   "metadata": {},
   "source": [
    "### Hyper-parameter Optimization with Genetic Algorithm"
   ]
  },
  {
   "cell_type": "code",
   "execution_count": null,
   "id": "ebc27f76",
   "metadata": {},
   "outputs": [],
   "source": [
    "#!pip install niapy"
   ]
  },
  {
   "cell_type": "code",
   "execution_count": null,
   "id": "8fdc769f",
   "metadata": {},
   "outputs": [],
   "source": [
    "#!pip install sklearn-nature-inspired-algorithms --user"
   ]
  },
  {
   "cell_type": "code",
   "execution_count": null,
   "id": "3981c9bb",
   "metadata": {},
   "outputs": [],
   "source": [
    "from Experiment import Experiment, get_estimator, get_hyperparams\n",
    "from niapy.algorithms.basic import GeneticAlgorithm\n",
    "from sklearn_nature_inspired_algorithms.model_selection.nature_inspired_search_cv import NatureInspiredSearchCV\n",
    "\n",
    "\n",
    "\n",
    "# 20 - 5\n",
    "algorithm = GeneticAlgorithm(seed=42, population_size=5, tournament_size=5, mutation_rate=0.9, crossover_rate=0.9)\n",
    "search_parameters = {\n",
    "    \"cv\": 5,\n",
    "    \"verbose\": 0,\n",
    "    \"algorithm\": algorithm,\n",
    "    \"max_n_gen\": 10,\n",
    "    \"max_stagnating_gen\": 10,    \n",
    "    \"runs\": 1,\n",
    "    \"scoring\": 'f1_macro',\n",
    "    \"random_state\": 11\n",
    "}\n",
    "\n",
    "e = Experiment(\n",
    "        search_name = \"Genetic Algorithm\", \n",
    "        search_algo = NatureInspiredSearchCV(get_estimator(), get_hyperparams(), **search_parameters)\n",
    "    )\n",
    "\n",
    "e.run_simulations(n=10)"
   ]
  },
  {
   "cell_type": "markdown",
   "id": "93411d3c",
   "metadata": {},
   "source": [
    "### Hyper-parameter Optimization with Particle Swarm Optimization"
   ]
  },
  {
   "cell_type": "code",
   "execution_count": null,
   "id": "210c7fb2",
   "metadata": {},
   "outputs": [],
   "source": [
    "#!pip install niapy"
   ]
  },
  {
   "cell_type": "code",
   "execution_count": null,
   "id": "e9f3ac08",
   "metadata": {},
   "outputs": [],
   "source": [
    "#!pip install sklearn-nature-inspired-algorithms --user"
   ]
  },
  {
   "cell_type": "code",
   "execution_count": null,
   "id": "23bd9832",
   "metadata": {},
   "outputs": [],
   "source": [
    "from Experiment import Experiment, get_estimator, get_hyperparams\n",
    "from sklearn_nature_inspired_algorithms.model_selection.nature_inspired_search_cv import NatureInspiredSearchCV\n",
    "from niapy.algorithms.basic import ParticleSwarmOptimization\n",
    "\n",
    "algorithm = ParticleSwarmOptimization(seed=42)\n",
    "\n",
    "search_parameters = {\n",
    "    \"cv\": 5,\n",
    "    \"verbose\": 0,\n",
    "    \"algorithm\": algorithm,\n",
    "    \"population_size\": 5,\n",
    "    \"max_n_gen\": 5,\n",
    "    \"max_stagnating_gen\": 5,    \n",
    "    \"runs\": 1,\n",
    "    \"scoring\": 'f1_macro',\n",
    "    \"random_state\": 42,\n",
    "}\n",
    "\n",
    "\n",
    "\n",
    "e = Experiment(\n",
    "        search_name = \"Particle Swarm Optimization\", \n",
    "        search_algo = NatureInspiredSearchCV(get_estimator(), get_hyperparams(), **search_parameters)\n",
    "    )\n",
    "e.run_simulations(n= 10)"
   ]
  }
 ],
 "metadata": {
  "kernelspec": {
   "display_name": "Python 3",
   "language": "python",
   "name": "python3"
  },
  "language_info": {
   "codemirror_mode": {
    "name": "ipython",
    "version": 3
   },
   "file_extension": ".py",
   "mimetype": "text/x-python",
   "name": "python",
   "nbconvert_exporter": "python",
   "pygments_lexer": "ipython3",
   "version": "3.8.8"
  }
 },
 "nbformat": 4,
 "nbformat_minor": 5
}
