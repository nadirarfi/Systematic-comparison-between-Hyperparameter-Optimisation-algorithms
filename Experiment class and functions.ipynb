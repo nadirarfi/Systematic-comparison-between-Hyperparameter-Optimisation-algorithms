{
 "cells": [
  {
   "cell_type": "markdown",
   "metadata": {},
   "source": [
    "# Import libraries and packages"
   ]
  },
  {
   "cell_type": "code",
   "execution_count": 2,
   "metadata": {},
   "outputs": [],
   "source": [
    "import os\n",
    "import csv\n",
    "import json\n",
    "import time\n",
    "import pandas as pd\n",
    "import numpy as np\n",
    "import matplotlib.pyplot as plt\n",
    "from scipy import stats\n",
    "from sklearn.model_selection import train_test_split\n",
    "from sklearn.preprocessing import OneHotEncoder\n",
    "from sklearn.neural_network import MLPClassifier\n",
    "from sklearn.metrics import classification_report"
   ]
  },
  {
   "cell_type": "markdown",
   "metadata": {},
   "source": [
    "# MNIST digits dataset"
   ]
  },
  {
   "cell_type": "code",
   "execution_count": 20,
   "metadata": {},
   "outputs": [
    {
     "data": {
      "image/png": "[encoded data removed]",
      "text/plain": [
       "<Figure size 504x216 with 12 Axes>"
      ]
     },
     "metadata": {
      "needs_background": "light"
     },
     "output_type": "display_data"
    }
   ],
   "source": [
    "dataset = pd.read_csv('./dataset/mnist_digits.csv')\n",
    "rand_idx = np.random.choice(dataset.index, size=100, replace=False)\n",
    "fig, axs = plt.subplots(nrows=2, ncols=6, figsize=(7,3))\n",
    "def pixel_mat(row):\n",
    "    vec = dataset.drop('label', axis=1).iloc[row].values\n",
    "    pixel_mat = vec.reshape(28,28)\n",
    "    return pixel_mat\n",
    "\n",
    "i = 0\n",
    "for ax in axs.reshape(-1):\n",
    "    ax.set_title(\"{}\".format(dataset['label'].iloc[rand_idx[i]]))\n",
    "    ax.imshow(pixel_mat(rand_idx[i]), cmap=plt.cm.gray, origin='upper', interpolation='nearest')\n",
    "    ax.axis('off')\n",
    "    i += 1\n",
    "plt.tight_layout()   \n",
    "plt.show()"
   ]
  },
  {
   "cell_type": "markdown",
   "metadata": {},
   "source": [
    "# Model selection and hyper-parameters definition  "
   ]
  },
  {
   "cell_type": "code",
   "execution_count": 5,
   "metadata": {},
   "outputs": [],
   "source": [
    "def get_data():\n",
    "    dataset_path = \"./dataset/mnist_digits.csv\"\n",
    "    df = pd.read_csv(dataset_path)\n",
    "    df = df.head(1000)\n",
    "    X = df.drop('label', axis=1) \n",
    "    X = X / 255\n",
    "    y = df[\"label\"].copy()\n",
    "    return (X, y)\n",
    "    "
   ]
  },
  {
   "cell_type": "code",
   "execution_count": 6,
   "metadata": {},
   "outputs": [],
   "source": [
    "def get_estimator():\n",
    "    return MLPClassifier(random_state=42)"
   ]
  },
  {
   "cell_type": "code",
   "execution_count": 7,
   "metadata": {},
   "outputs": [],
   "source": [
    "def get_hyperparams():\n",
    "    return {\n",
    "        'hidden_layer_sizes': [25, 50, 100, 150, 200],\n",
    "        'activation': ['logistic', 'tanh', 'relu'],\n",
    "        'solver': ['sgd', 'adam'],\n",
    "        'alpha': [0.001, 0.01, 0.1],\n",
    "        'learning_rate': ['adaptive', 'constant']\n",
    "    }"
   ]
  },
  {
   "cell_type": "markdown",
   "metadata": {},
   "source": [
    "# Experiment Class"
   ]
  },
  {
   "cell_type": "code",
   "execution_count": 8,
   "metadata": {},
   "outputs": [],
   "source": [
    "class Experiment: \n",
    "    \"\"\"\n",
    "        # Name of the Search algorithm used for opitmization\n",
    "        # Search algorithm used for opitmization\n",
    "    \"\"\"\n",
    "    def __init__(self, search_name:str, search_algo):        \n",
    "        self.search_name = search_name        \n",
    "        self.search_algo = search_algo\n",
    "        self.X, self.y = get_data() \n",
    "        self.hyperparams = get_hyperparams()\n",
    "        self.n_search = int(np.multiply.reduce([len(param) for param in self.hyperparams.values()])) \n",
    "        self.X_train, self.X_test, self.y_train, self.y_test = train_test_split(self.X, self.y, test_size = 0.3, random_state = 42)\n",
    "        self.train_size = len(self.X_train)\n",
    "        self.test_size = len(self.X_test)\n",
    "        self.execution_time = {}\n",
    "        \n",
    "    def run_simulations(self, n:int):\n",
    "        \"\"\"\n",
    "            Run n simulations\n",
    "        \"\"\"        \n",
    "        file_name = \"./joulemeter.csv\"\n",
    "        time.sleep(10)\n",
    "        print(\"Start of the Experiment\")\n",
    "        print(\"Number of search possibilities: {}\".format(self.n_search))\n",
    "        print(\"Train size: {}\".format(self.train_size))\n",
    "        print(\"Test size: {}\".format(self.test_size))\n",
    "        append_row_seperator(file_name)\n",
    "        for i in range(1, n+1):\n",
    "            print(f\"Simulation {i}\")\n",
    "            self.hyperparam_tuning()\n",
    "            self.test_estimator()\n",
    "            self.save_results(folder_path= \"./simulations/{}/{}/\".format(self.search_name, i))\n",
    "            append_row_seperator(file_name)\n",
    "        joulemeter_df = pd.read_csv(file_name)\n",
    "        joulemeter_df.to_csv(\"./simulations/{}/joulemeter.csv\".format(self.search_name))\n",
    "        split_joulemeter_csv(folder_path= \"./simulations/{}/\".format(self.search_name))\n",
    "        print(\"End of the Experiment\")\n",
    "        \n",
    "    \n",
    "    def hyperparam_tuning(self):\n",
    "        \"\"\"\n",
    "        - Start the hyper parameters optimization algorithm by first splitting the dataset\n",
    "        according to the Train-test split ratio.\n",
    "        - Apply the hyper-parameter optimization algorithm by fitting the \"training\" data \n",
    "        on all possible combinations.\n",
    "        - Extract the best set of parameters       \n",
    "        \"\"\"\n",
    "        t_start = time.time()\n",
    "        self.search_algo.fit(self.X_train, self.y_train) # Fit training data      \n",
    "        t_end = time.time()\n",
    "        self.execution_time[\"hyper_param\"] = (t_end - t_start)\n",
    "        self.best_params = self.search_algo.best_params_\n",
    "        self.cv_results = self.search_algo.cv_results_\n",
    "        \n",
    "    def test_estimator(self):\n",
    "        self.best_estimator = self.search_algo.best_estimator_ # Return the best estimator with the best parameters\n",
    "        self.y_pred = self.best_estimator.predict(self.X_test)\n",
    "        self.classification_report = classification_report(self.y_test, self.y_pred, digits=4, output_dict=True)  \n",
    "        \n",
    "    \n",
    "    def save_results(self, folder_path:str):\n",
    "        \"\"\"\n",
    "        - Create folder for saving the results.\n",
    "        - Save the results within a json format to process later on. \n",
    "        \"\"\"\n",
    "        create_folder(folder_path)  \n",
    "        save_to_json(file_path= folder_path + \"best_params\", obj= self.best_params)\n",
    "        save_to_json(file_path= folder_path + \"cv_results\", obj= self.cv_results)\n",
    "        save_to_json(file_path= folder_path + \"classification_report\", obj= self.classification_report)"
   ]
  },
  {
   "cell_type": "markdown",
   "metadata": {},
   "source": [
    "#  Functions"
   ]
  },
  {
   "cell_type": "markdown",
   "metadata": {},
   "source": [
    "### Process joulemeter simulations results"
   ]
  },
  {
   "cell_type": "code",
   "execution_count": 9,
   "metadata": {},
   "outputs": [],
   "source": [
    "def watt_to_joule(df_power:pd.DataFrame, execution_time:float):\n",
    "    new_columns = {\n",
    "            ' Base (W)': \"Base (KJ)\", \n",
    "            ' CPU (W)': \"CPU (KJ)\", \n",
    "            ' Total Power (W)': \"Hardware (KJ)\",\n",
    "            ' Application (W)': \"Application (KJ)\",\n",
    "        }    \n",
    "    df = df_power.copy()\n",
    "    df = df.drop(columns=[\"TimeStamp (ms)\", \" Disk (W)\", \" Monitor (W)\" ])\n",
    "    df = df.rename(columns = new_columns, errors=\"ignore\")\n",
    "    df = df[list(new_columns.values())]  \n",
    "    df = df.mean() * execution_time / 1000\n",
    "    df[\"Total Energy (KJ)\"] = df[\"Hardware (KJ)\"] + df[\"Application (KJ)\"]\n",
    "    df[\"Execution Time (s)\"] = execution_time    \n",
    "    df[\"Average Total Energy (J/s)\"] = 1000 * df[\"Total Energy (KJ)\"] / execution_time\n",
    "    \n",
    "    return df.to_dict()"
   ]
  },
  {
   "cell_type": "code",
   "execution_count": 10,
   "metadata": {},
   "outputs": [],
   "source": [
    "def get_joulemeter_results(algorithm_name:str, n_simulations=10):\n",
    "    folder_path = './simulations/{}/'.format(algorithm_name) \n",
    "    joulemeter_results = []\n",
    "    for i in range(1, n_simulations+1):\n",
    "        simu_folder_path = folder_path + \"{}/\".format(i)\n",
    "        best_params = read_json(simu_folder_path + 'best_params.json')\n",
    "        df_power = pd.read_csv(simu_folder_path + 'joulemeter.csv')\n",
    "        start = df_power.iloc[0][\"TimeStamp (ms)\"]\n",
    "        end = df_power.iloc[-1][\"TimeStamp (ms)\"]\n",
    "        execution_time = (end - start)/1000           \n",
    "        energy_data = watt_to_joule(df_power, execution_time)\n",
    "        energy_consumption = energy_data[\"Total Energy (KJ)\"]   \n",
    "        joulemeter_results.append({\n",
    "            \"HPO\": algorithm_name,\n",
    "            **energy_data\n",
    "        })\n",
    "        \n",
    "    joulemeter_results = pd.DataFrame(joulemeter_results).round(3)\n",
    "    joulemeter_results.index += 1\n",
    "    joulemeter_results = joulemeter_results.set_index(\"Sim\" + joulemeter_results.index.astype(str))\n",
    "    save_results(path= f\"./results/{algorithm_name}/\", file_name= \"joulemeter_results.csv\", df=joulemeter_results, index=True)\n",
    "    return joulemeter_results"
   ]
  },
  {
   "cell_type": "markdown",
   "metadata": {},
   "source": [
    "### Return classification report"
   ]
  },
  {
   "cell_type": "code",
   "execution_count": 11,
   "metadata": {},
   "outputs": [],
   "source": [
    "def get_classification_report(algorithm_name:str):\n",
    "    \"\"\"\n",
    "    \n",
    "    \"\"\"\n",
    "    folder_path = './simulations/{}/'.format(algorithm_name) \n",
    "    classification_report = read_json(folder_path + \"1/\" + 'classification_report.json')\n",
    "    classification_report = pd.DataFrame(classification_report).round(3)\n",
    "    accuracy = classification_report[\"accuracy\"][\"f1-score\"] \n",
    "    to_replace = {\n",
    "        'param_solver': 'Solver',\n",
    "        'param_learning_rate': 'Learning rate',\n",
    "        'param_hidden_layer_sizes': 'Hidden layer size',\n",
    "        'param_alpha': 'Alpha', \n",
    "        'param_activation': 'Activation function',\n",
    "        'mean_test_score': 'Mean test score', \n",
    "        'std_test_score': 'Std test score',\n",
    "        'rank_test_score': 'Solution Rank'\n",
    "    }\n",
    "    save_results(path= f\"./results/{algorithm_name}/\", file_name= \"classification_report.csv\", df=classification_report, index=True)\n",
    "    return classification_report"
   ]
  },
  {
   "cell_type": "markdown",
   "metadata": {},
   "source": [
    "### Compute carbon footprint"
   ]
  },
  {
   "cell_type": "code",
   "execution_count": 12,
   "metadata": {},
   "outputs": [],
   "source": [
    "def get_co2_results(algorithm_name:str, n_simulations=10):\n",
    "    \"\"\"\n",
    "    \n",
    "    \"\"\"\n",
    "    folder_path = './simulations/{}/'.format(algorithm_name) \n",
    "    co2_results = []\n",
    "    for i in range(1, n_simulations+1):\n",
    "        simu_folder_path = folder_path + \"{}/\".format(i)\n",
    "        df_power = pd.read_csv(simu_folder_path + 'joulemeter.csv')\n",
    "        start = df_power.iloc[0][\"TimeStamp (ms)\"]\n",
    "        end = df_power.iloc[-1][\"TimeStamp (ms)\"]\n",
    "        execution_time = (end - start)/1000           \n",
    "        energy_data = watt_to_joule(df_power, execution_time)\n",
    "        energy_consumption_kj = energy_data[\"Total Energy (KJ)\"]  \n",
    "        energy_consumption_kwh = energy_consumption_kj/ 3600\n",
    "        co2_results.append({\n",
    "            \"HPO\": algorithm_name,\n",
    "            #\"Execution time (s)\": execution_time,\n",
    "            #\"Total Energy (KJ)\": energy_consumption_kj,\n",
    "            \"Total Energy (kWh)\": energy_consumption_kwh,\n",
    "            \"Emission (kgCH4/kWh)/year\": 0.0008 * energy_consumption_kwh * 365 * 24,\n",
    "            \"Emission (kgN2O/kWh)/year\": 0.00137 * energy_consumption_kwh * 365 * 24,\n",
    "            \"Emission (kgCO2/kWh)/year\": 0.21016 * energy_consumption_kwh * 365 * 24,\n",
    "            \"Emission (kgCO2e/kWh)/year\": 0.21233 * energy_consumption_kwh * 365 * 24,\n",
    "            })\n",
    "    co2_results = pd.DataFrame(co2_results).round(3)\n",
    "    co2_results.index += 1\n",
    "    co2_results = co2_results.set_index(\"Sim\" + co2_results.index.astype(str))    \n",
    "    save_results(path= f\"./results/{algorithm_name}/\", file_name= \"co2_results.csv\", df=co2_results, index=True)\n",
    "    return co2_results\n",
    "        "
   ]
  },
  {
   "cell_type": "markdown",
   "metadata": {},
   "source": [
    "### Return cross validation results "
   ]
  },
  {
   "cell_type": "code",
   "execution_count": 13,
   "metadata": {},
   "outputs": [],
   "source": [
    "def get_cv_results(algorithm_name:str):    \n",
    "    \"\"\"\n",
    "    \n",
    "    \"\"\"\n",
    "    folder_path = './simulations/{}/'.format(algorithm_name) \n",
    "    cv_results = read_json(folder_path + \"1/\" + 'cv_results.json')\n",
    "    cv_results = pd.DataFrame(cv_results).sort_values(by=\"rank_test_score\").round(3)\n",
    "    to_replace = {\n",
    "    'param_solver': 'Solver',\n",
    "    'param_learning_rate': 'Learning rate',\n",
    "    'param_hidden_layer_sizes': 'Hidden layer size',\n",
    "    'param_alpha': 'Alpha', \n",
    "    'param_activation': 'Activation function',\n",
    "    'mean_test_score': 'Mean test score', \n",
    "    'std_test_score': 'Std test score',\n",
    "    'rank_test_score': 'Solution Rank'\n",
    "    }\n",
    "    cv_results = cv_results.rename(columns = to_replace, errors=\"ignore\")\n",
    "    columns = to_replace.values()\n",
    "    cv_results = cv_results[columns].reset_index(drop=True)\n",
    "    cv_results.index += 1\n",
    "    cv_results = cv_results.set_index(\"Solution\" + cv_results.index.astype(str))[:10]\n",
    "    save_results(path= f\"./results/{algorithm_name}/\", file_name= \"cv_results.csv\", df=cv_results, index=True)\n",
    "    return cv_results"
   ]
  },
  {
   "cell_type": "markdown",
   "metadata": {},
   "source": [
    "### Two sample t-test function "
   ]
  },
  {
   "cell_type": "code",
   "execution_count": 14,
   "metadata": {},
   "outputs": [],
   "source": [
    "def t_test(data:dict, algo_1:str, algo_2:str):\n",
    "    \"\"\"\n",
    "    \n",
    "    \"\"\"\n",
    "    alpha = 0.05\n",
    "    p_values, null_hypothesis, t_test_values = [],[],[]\n",
    "    means_1, means_2 = [],[]\n",
    "    variances_1, variances_2 = [],[]\n",
    "    var_ratios = []\n",
    "    levene_p_values = []\n",
    "\n",
    "    #va#riables = ['Total Energy (KJ)', 'Execution Time (s)']\n",
    "    variables = ['Execution Time (s)', 'Total Energy (KJ)',\n",
    "       'Total Energy (kWh)', 'Average Total Energy (J/s)',\n",
    "       'Emission (kgCH4/kWh)/year','Emission (kgN2O/kWh)/year', \n",
    "       'Emission (kgCO2/kWh)/year', 'Emission (kgCO2e/kWh)/year']    \n",
    "    for variable in variables:\n",
    "        j1, j2 = data[algo_1], data[algo_2]\n",
    "        col1, col2 = j1[variable], j2[variable]\n",
    "        var1, var2 = col1.var(), col2.var()\n",
    "        mean1, mean2 = col1.mean(), col2.mean()\n",
    "        variances_1.append(var1)\n",
    "        variances_2.append(var2)\n",
    "        means_1.append(mean1)\n",
    "        means_2.append(mean2) \n",
    "        var_ratio = var1/var2\n",
    "        var_ratios.append(var_ratio) \n",
    "        \"\"\"\n",
    "        statistic, p_value = stats.ttest_ind(col1, col2)\n",
    "        p_values.append(p_value)\n",
    "        t_test_values.append(statistic)\n",
    "        if p_value < alpha:\n",
    "            null_hypothesis.append('Reject') \n",
    "        else:\n",
    "            null_hypothesis.append('Fail to Reject') \n",
    "        \"\"\"\n",
    "        # Levene test to check variance equality between columns\n",
    "        stat, levene_p_value = stats.levene(col1, col2) # H0: Variances are equal | H1: Variances are not equal\n",
    "        \n",
    "        if levene_p_value > 0.05: # Fail to reject H0\n",
    "            statistic, p_value = stats.ttest_ind(col1, col2, equal_var=True)\n",
    "        else:\n",
    "            statistic, p_value = stats.ttest_ind(col1, col2, equal_var=False)\n",
    "            \n",
    "        if p_value < alpha /2:\n",
    "            null_hypothesis.append('Reject') # H1: samples have different average \n",
    "        else:\n",
    "            null_hypothesis.append('Fail to Reject') #H0: 2 independent samples have identical average (expected) values.\n",
    "        \n",
    "        levene_p_values.append(levene_p_value)\n",
    "        p_values.append(p_value)\n",
    "        t_test_values.append(statistic)\n",
    "        \n",
    "    results = pd.DataFrame({\n",
    "        f'Mean ({algo_1})' : means_1,\n",
    "        f'Mean ({algo_2})': means_2,  \n",
    "        #f'Var ({algo_1})' : variances_1,\n",
    "        #f'Var ({algo_2})': variances_2,\n",
    "        #'Var Ratio': var_ratios,\n",
    "        #'Levene p_value': levene_p_values,\n",
    "        't-stat': t_test_values,\n",
    "        'p_value': p_values,\n",
    "        'Null Hypothesis': null_hypothesis,\n",
    "    })\n",
    "    results = results.set_axis(variables)\n",
    "    to_round = [f'Mean ({algo_1})', f'Mean ({algo_2})','t-stat']\n",
    "    results[to_round] = results[to_round].round(3)\n",
    "    save_results(path= \"./results/inferential/t_test/\", file_name=\"{}_{}.csv\".format(algo_1, algo_2), df= results, index=True)\n",
    "    return results"
   ]
  },
  {
   "cell_type": "markdown",
   "metadata": {},
   "source": [
    "### Add separator when doing simulations in joulemeter.csv "
   ]
  },
  {
   "cell_type": "code",
   "execution_count": 15,
   "metadata": {},
   "outputs": [],
   "source": [
    "def split_joulemeter_csv(folder_path:str, file_name = \"joulemeter.csv\", separator=\"x\"):\n",
    "    if file_name in os.listdir(folder_path):\n",
    "        df = pd.read_csv(folder_path + file_name,  index_col=0)\n",
    "        indices = df[ df[\"TimeStamp (ms)\"] == separator].index.to_list()\n",
    "        simulations_list = [simu for simu in os.listdir(folder_path) if simu != file_name]\n",
    "        for i, j, simu in zip(indices[:-1], indices[1:], simulations_list):\n",
    "            df.iloc[i+1:j].to_csv(folder_path + simu + \"/\" + file_name, index=False)\n",
    "        os.remove(folder_path + file_name)"
   ]
  },
  {
   "cell_type": "code",
   "execution_count": 16,
   "metadata": {},
   "outputs": [],
   "source": [
    "def append_row_seperator(file_name, separator=\"x\"):\n",
    "    with open(file_name, 'a+', newline='') as write_obj: # Open file in append mode\n",
    "        csv_writer = csv.writer(write_obj) # Create a writer object from csv module\n",
    "        csv_writer.writerow([separator for i in range(7)]) # Add contents of list as last row in the csv file"
   ]
  },
  {
   "cell_type": "markdown",
   "metadata": {},
   "source": [
    "### Save pandas dataframe to csv"
   ]
  },
  {
   "cell_type": "code",
   "execution_count": 17,
   "metadata": {},
   "outputs": [],
   "source": [
    "def save_results(path:str, file_name:str, df:pd.DataFrame, index:bool):    \n",
    "    create_folder(path)\n",
    "    df.to_csv(path + file_name , index=index)"
   ]
  },
  {
   "cell_type": "markdown",
   "metadata": {},
   "source": [
    "### Merge two dataframes"
   ]
  },
  {
   "cell_type": "markdown",
   "metadata": {},
   "source": [
    "In[ ]:"
   ]
  },
  {
   "cell_type": "code",
   "execution_count": 18,
   "metadata": {},
   "outputs": [],
   "source": [
    "def merge_df(df1, df2):\n",
    "    diff_cols = df2.columns.difference(df1.columns)\n",
    "    df3 = df2[diff_cols]\n",
    "    df_merged = pd.merge(df1, df3, left_index=True, right_index=True, how='inner')\n",
    "    return df_merged"
   ]
  },
  {
   "cell_type": "markdown",
   "metadata": {},
   "source": [
    "### Create folder"
   ]
  },
  {
   "cell_type": "code",
   "execution_count": 19,
   "metadata": {},
   "outputs": [],
   "source": [
    "def create_folder(folder_path:str):\n",
    "    \"\"\"\n",
    "    Check whether the specified path exists or not\n",
    "    Create a new directory if it does not exist \n",
    "    \"\"\"\n",
    "    isExist = os.path.exists(folder_path)\n",
    "    if not isExist:\n",
    "        os.makedirs(folder_path)"
   ]
  },
  {
   "cell_type": "markdown",
   "metadata": {},
   "source": [
    "### Handle json files"
   ]
  },
  {
   "cell_type": "code",
   "execution_count": 21,
   "metadata": {},
   "outputs": [],
   "source": [
    "class NumpyEncoder(json.JSONEncoder):\n",
    "    def default(self, obj):\n",
    "        if isinstance(obj, np.ndarray):\n",
    "            return obj.tolist()\n",
    "        return json.JSONEncoder.default(self, obj)\n",
    "    \n",
    "def save_to_json(file_path:str, obj):\n",
    "    with open(file_path + \".json\", \"w\") as outfile:\n",
    "        json.dump(obj, outfile, cls=NumpyEncoder)\n",
    "        \n",
    "def read_json(file_path):\n",
    "    with open(file_path) as json_file:\n",
    "        data = json.load(json_file)\n",
    "    return data"
   ]
  }
 ],
 "metadata": {
  "kernelspec": {
   "display_name": "Python 3",
   "language": "python",
   "name": "python3"
  },
  "language_info": {
   "codemirror_mode": {
    "name": "ipython",
    "version": 3
   },
   "file_extension": ".py",
   "mimetype": "text/x-python",
   "name": "python",
   "nbconvert_exporter": "python",
   "pygments_lexer": "ipython3",
   "version": "3.8.8"
  }
 },
 "nbformat": 4,
 "nbformat_minor": 2
}
